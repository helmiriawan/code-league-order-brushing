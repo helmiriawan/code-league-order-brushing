{
 "cells": [
  {
   "cell_type": "code",
   "execution_count": 1,
   "metadata": {},
   "outputs": [],
   "source": [
    "import numpy as np\n",
    "import pandas as pd\n",
    "from datetime import timedelta"
   ]
  },
  {
   "cell_type": "markdown",
   "metadata": {},
   "source": [
    "## Functions"
   ]
  },
  {
   "cell_type": "code",
   "execution_count": 2,
   "metadata": {},
   "outputs": [],
   "source": [
    "# Get event time of previous order from the same shopid\n",
    "def get_previous(data, shopid, event_time):\n",
    "    \n",
    "    # Get all previous orders\n",
    "    previous = data.loc[\n",
    "        (data['shopid'] == shopid) & (data['event_time'] < event_time),\n",
    "        'event_time'\n",
    "    ]\n",
    "    \n",
    "    # Take the last order\n",
    "    if len(previous) > 0:\n",
    "        previous = pd.Timestamp(previous.values[-1])\n",
    "    else:\n",
    "        previous = None\n",
    "    \n",
    "    \n",
    "    return(previous)"
   ]
  },
  {
   "cell_type": "code",
   "execution_count": 3,
   "metadata": {},
   "outputs": [],
   "source": [
    "# Get a subset of data\n",
    "def get_subset(data, shopid, start_time, end_time):\n",
    "    \n",
    "    # Get the subset\n",
    "    subset = data.loc[\n",
    "        (data['shopid'] == shopid) \n",
    "        & (data['event_time'] >= start_time)\n",
    "        & (data['event_time'] <= end_time)\n",
    "    ]\n",
    "    \n",
    "    \n",
    "    return(subset)"
   ]
  },
  {
   "cell_type": "code",
   "execution_count": 4,
   "metadata": {},
   "outputs": [],
   "source": [
    "# Get concentrate rate\n",
    "def get_rate(data):\n",
    "    \n",
    "    # Calculate concentrate rate\n",
    "    if data.shape[0] > 0:\n",
    "        rate = data.shape[0] / len(np.unique(data['userid']))\n",
    "    else:\n",
    "        rate = 0\n",
    "    \n",
    "    \n",
    "    return(rate)"
   ]
  },
  {
   "cell_type": "code",
   "execution_count": 5,
   "metadata": {},
   "outputs": [],
   "source": [
    "# Get suspicious orders\n",
    "def get_orders(data, output):\n",
    "    \n",
    "    # Get max orders\n",
    "    order_agg = data.groupby('userid')['orderid'].count().reset_index()\n",
    "    order_max = order_agg['orderid'].max()\n",
    "\n",
    "    # Get userid with max number of orders\n",
    "    users = order_agg.loc[order_agg['orderid']==order_max, 'userid'].unique()\n",
    "\n",
    "    # Get orders from suspicious userid\n",
    "    orders = data \\\n",
    "        .loc[data['userid'].isin(users), ['shopid', 'userid', 'orderid']] \\\n",
    "        .values \\\n",
    "        .tolist()\n",
    "    output = output + orders\n",
    "\n",
    "\n",
    "    return(output)"
   ]
  },
  {
   "cell_type": "code",
   "execution_count": 6,
   "metadata": {},
   "outputs": [],
   "source": [
    "# Find consecutive orders from the same userid\n",
    "def find_consecutive(data, output, userid, previous_time):\n",
    "    \n",
    "    # Check consecutive orders\n",
    "    count = 0\n",
    "    total_orders = data.shape[0]\n",
    "    if total_orders > 3:\n",
    "        while count < total_orders and data.iloc[count, 2] == userid:\n",
    "            count = count + 1\n",
    "\n",
    "    # If the number of orders is equal or higher than 3\n",
    "    if count >= 3:\n",
    "\n",
    "        # Check the time difference of the next and previous order\n",
    "        next_order = data.iloc[count, 3]\n",
    "        if pd.isnull(previous_time) == False:\n",
    "            delta = next_order - previous_time\n",
    "\n",
    "        # Get orders from suspicious userid\n",
    "        if pd.isnull(previous_time) or delta > timedelta(hours=1):\n",
    "            orders = data \\\n",
    "            .iloc[:count, [1, 2, 0]] \\\n",
    "            .values \\\n",
    "            .tolist()\n",
    "            output = output + orders\n",
    "    \n",
    "    \n",
    "    return(output)"
   ]
  },
  {
   "cell_type": "code",
   "execution_count": 7,
   "metadata": {},
   "outputs": [],
   "source": [
    "# Find order brushing\n",
    "def find_brushing(data, row):\n",
    "    \n",
    "    # Initialize output\n",
    "    output = []\n",
    "    \n",
    "    # Time period based on time event\n",
    "    subset = get_subset(data, row[1], row[3], row[4])\n",
    "    rate = get_rate(subset)\n",
    "    if rate >= 3:\n",
    "        output = get_orders(subset, output)\n",
    "    else:\n",
    "        # Find consecutive orders\n",
    "        output = find_consecutive(subset, output, row[2], row[5])\n",
    "\n",
    "    # Time period based on time event of previous record\n",
    "    if pd.isnull(row[6]) == False:\n",
    "        subset = get_subset(data, row[1], row[3], row[6])\n",
    "        rate = get_rate(subset)\n",
    "        if rate >= 3:\n",
    "            output = get_orders(subset, output)\n",
    "    \n",
    "    # Show log\n",
    "    if (row.name+1) % 10000 == 0:\n",
    "        print(str(row.name+1), 'rows checked')\n",
    "    \n",
    "    \n",
    "    return(output)"
   ]
  },
  {
   "cell_type": "markdown",
   "metadata": {},
   "source": [
    "## Data Understanding"
   ]
  },
  {
   "cell_type": "code",
   "execution_count": 8,
   "metadata": {},
   "outputs": [],
   "source": [
    "# Load the dataset\n",
    "dataset = pd.read_csv('order_brush_order.csv')"
   ]
  },
  {
   "cell_type": "code",
   "execution_count": 9,
   "metadata": {},
   "outputs": [
    {
     "data": {
      "text/html": [
       "<div>\n",
       "<style scoped>\n",
       "    .dataframe tbody tr th:only-of-type {\n",
       "        vertical-align: middle;\n",
       "    }\n",
       "\n",
       "    .dataframe tbody tr th {\n",
       "        vertical-align: top;\n",
       "    }\n",
       "\n",
       "    .dataframe thead th {\n",
       "        text-align: right;\n",
       "    }\n",
       "</style>\n",
       "<table border=\"1\" class=\"dataframe\">\n",
       "  <thead>\n",
       "    <tr style=\"text-align: right;\">\n",
       "      <th></th>\n",
       "      <th>orderid</th>\n",
       "      <th>shopid</th>\n",
       "      <th>userid</th>\n",
       "      <th>event_time</th>\n",
       "    </tr>\n",
       "  </thead>\n",
       "  <tbody>\n",
       "    <tr>\n",
       "      <th>0</th>\n",
       "      <td>31076582227611</td>\n",
       "      <td>93950878</td>\n",
       "      <td>30530270</td>\n",
       "      <td>2019-12-27 00:23:03</td>\n",
       "    </tr>\n",
       "    <tr>\n",
       "      <th>1</th>\n",
       "      <td>31118059853484</td>\n",
       "      <td>156423439</td>\n",
       "      <td>46057927</td>\n",
       "      <td>2019-12-27 11:54:20</td>\n",
       "    </tr>\n",
       "    <tr>\n",
       "      <th>2</th>\n",
       "      <td>31123355095755</td>\n",
       "      <td>173699291</td>\n",
       "      <td>67341739</td>\n",
       "      <td>2019-12-27 13:22:35</td>\n",
       "    </tr>\n",
       "    <tr>\n",
       "      <th>3</th>\n",
       "      <td>31122059872723</td>\n",
       "      <td>63674025</td>\n",
       "      <td>149380322</td>\n",
       "      <td>2019-12-27 13:01:00</td>\n",
       "    </tr>\n",
       "    <tr>\n",
       "      <th>4</th>\n",
       "      <td>31117075665123</td>\n",
       "      <td>127249066</td>\n",
       "      <td>149493217</td>\n",
       "      <td>2019-12-27 11:37:55</td>\n",
       "    </tr>\n",
       "  </tbody>\n",
       "</table>\n",
       "</div>"
      ],
      "text/plain": [
       "          orderid     shopid     userid           event_time\n",
       "0  31076582227611   93950878   30530270  2019-12-27 00:23:03\n",
       "1  31118059853484  156423439   46057927  2019-12-27 11:54:20\n",
       "2  31123355095755  173699291   67341739  2019-12-27 13:22:35\n",
       "3  31122059872723   63674025  149380322  2019-12-27 13:01:00\n",
       "4  31117075665123  127249066  149493217  2019-12-27 11:37:55"
      ]
     },
     "execution_count": 9,
     "metadata": {},
     "output_type": "execute_result"
    }
   ],
   "source": [
    "# Show sample dataset\n",
    "dataset.head()"
   ]
  },
  {
   "cell_type": "code",
   "execution_count": 10,
   "metadata": {},
   "outputs": [
    {
     "name": "stdout",
     "output_type": "stream",
     "text": [
      "<class 'pandas.core.frame.DataFrame'>\n",
      "RangeIndex: 222750 entries, 0 to 222749\n",
      "Data columns (total 4 columns):\n",
      " #   Column      Non-Null Count   Dtype \n",
      "---  ------      --------------   ----- \n",
      " 0   orderid     222750 non-null  int64 \n",
      " 1   shopid      222750 non-null  int64 \n",
      " 2   userid      222750 non-null  int64 \n",
      " 3   event_time  222750 non-null  object\n",
      "dtypes: int64(3), object(1)\n",
      "memory usage: 6.8+ MB\n"
     ]
    }
   ],
   "source": [
    "# Show more information about the dataset\n",
    "dataset.info()"
   ]
  },
  {
   "cell_type": "code",
   "execution_count": 11,
   "metadata": {},
   "outputs": [
    {
     "data": {
      "text/plain": [
       "18770"
      ]
     },
     "execution_count": 11,
     "metadata": {},
     "output_type": "execute_result"
    }
   ],
   "source": [
    "# Check number of unique shopid\n",
    "# (should be the total number of rows for the submission file)\n",
    "len(set(dataset.shopid.tolist()))"
   ]
  },
  {
   "cell_type": "markdown",
   "metadata": {},
   "source": [
    "## Data Preparation"
   ]
  },
  {
   "cell_type": "code",
   "execution_count": 12,
   "metadata": {},
   "outputs": [],
   "source": [
    "# Convert to datetime\n",
    "dataset.event_time = pd.to_datetime(\n",
    "    dataset.event_time, \n",
    "    format='%Y-%m-%d %H:%M:%S', \n",
    "    errors='coerce'\n",
    ")"
   ]
  },
  {
   "cell_type": "code",
   "execution_count": 13,
   "metadata": {},
   "outputs": [],
   "source": [
    "# Sort the dataset by shopid and event time\n",
    "dataset = dataset.sort_values(by=['shopid', 'event_time'])\n",
    "dataset = dataset.reset_index(drop=True)"
   ]
  },
  {
   "cell_type": "code",
   "execution_count": 14,
   "metadata": {},
   "outputs": [],
   "source": [
    "# Add new column that indicate the next hour\n",
    "dataset['end_interval_1'] = dataset.event_time + timedelta(hours=1)"
   ]
  },
  {
   "cell_type": "code",
   "execution_count": 15,
   "metadata": {},
   "outputs": [],
   "source": [
    "# Add new column that indicate the next hour from previous order\n",
    "dataset['previous_time'] = dataset.apply(\n",
    "    lambda row: get_previous(dataset, row['shopid'], row['event_time']), \n",
    "    axis=1\n",
    ")\n",
    "dataset['end_interval_2'] = dataset.previous_time + timedelta(hours=1)"
   ]
  },
  {
   "cell_type": "code",
   "execution_count": 16,
   "metadata": {},
   "outputs": [
    {
     "data": {
      "text/html": [
       "<div>\n",
       "<style scoped>\n",
       "    .dataframe tbody tr th:only-of-type {\n",
       "        vertical-align: middle;\n",
       "    }\n",
       "\n",
       "    .dataframe tbody tr th {\n",
       "        vertical-align: top;\n",
       "    }\n",
       "\n",
       "    .dataframe thead th {\n",
       "        text-align: right;\n",
       "    }\n",
       "</style>\n",
       "<table border=\"1\" class=\"dataframe\">\n",
       "  <thead>\n",
       "    <tr style=\"text-align: right;\">\n",
       "      <th></th>\n",
       "      <th>orderid</th>\n",
       "      <th>shopid</th>\n",
       "      <th>userid</th>\n",
       "      <th>event_time</th>\n",
       "      <th>end_interval_1</th>\n",
       "      <th>previous_time</th>\n",
       "      <th>end_interval_2</th>\n",
       "    </tr>\n",
       "  </thead>\n",
       "  <tbody>\n",
       "    <tr>\n",
       "      <th>0</th>\n",
       "      <td>31086409141107</td>\n",
       "      <td>10009</td>\n",
       "      <td>196962305</td>\n",
       "      <td>2019-12-27 03:06:50</td>\n",
       "      <td>2019-12-27 04:06:50</td>\n",
       "      <td>NaT</td>\n",
       "      <td>NaT</td>\n",
       "    </tr>\n",
       "    <tr>\n",
       "      <th>1</th>\n",
       "      <td>31144571933461</td>\n",
       "      <td>10051</td>\n",
       "      <td>2854032</td>\n",
       "      <td>2019-12-27 19:16:11</td>\n",
       "      <td>2019-12-27 20:16:11</td>\n",
       "      <td>NaT</td>\n",
       "      <td>NaT</td>\n",
       "    </tr>\n",
       "    <tr>\n",
       "      <th>2</th>\n",
       "      <td>31254979546679</td>\n",
       "      <td>10051</td>\n",
       "      <td>48600461</td>\n",
       "      <td>2019-12-29 01:56:19</td>\n",
       "      <td>2019-12-29 02:56:19</td>\n",
       "      <td>2019-12-27 19:16:11</td>\n",
       "      <td>2019-12-27 20:16:11</td>\n",
       "    </tr>\n",
       "    <tr>\n",
       "      <th>3</th>\n",
       "      <td>31195675919209</td>\n",
       "      <td>10061</td>\n",
       "      <td>168750452</td>\n",
       "      <td>2019-12-28 09:27:55</td>\n",
       "      <td>2019-12-28 10:27:55</td>\n",
       "      <td>NaT</td>\n",
       "      <td>NaT</td>\n",
       "    </tr>\n",
       "    <tr>\n",
       "      <th>4</th>\n",
       "      <td>31205132327893</td>\n",
       "      <td>10061</td>\n",
       "      <td>194819216</td>\n",
       "      <td>2019-12-28 12:05:32</td>\n",
       "      <td>2019-12-28 13:05:32</td>\n",
       "      <td>2019-12-28 09:27:55</td>\n",
       "      <td>2019-12-28 10:27:55</td>\n",
       "    </tr>\n",
       "  </tbody>\n",
       "</table>\n",
       "</div>"
      ],
      "text/plain": [
       "          orderid  shopid     userid          event_time      end_interval_1  \\\n",
       "0  31086409141107   10009  196962305 2019-12-27 03:06:50 2019-12-27 04:06:50   \n",
       "1  31144571933461   10051    2854032 2019-12-27 19:16:11 2019-12-27 20:16:11   \n",
       "2  31254979546679   10051   48600461 2019-12-29 01:56:19 2019-12-29 02:56:19   \n",
       "3  31195675919209   10061  168750452 2019-12-28 09:27:55 2019-12-28 10:27:55   \n",
       "4  31205132327893   10061  194819216 2019-12-28 12:05:32 2019-12-28 13:05:32   \n",
       "\n",
       "        previous_time      end_interval_2  \n",
       "0                 NaT                 NaT  \n",
       "1                 NaT                 NaT  \n",
       "2 2019-12-27 19:16:11 2019-12-27 20:16:11  \n",
       "3                 NaT                 NaT  \n",
       "4 2019-12-28 09:27:55 2019-12-28 10:27:55  "
      ]
     },
     "execution_count": 16,
     "metadata": {},
     "output_type": "execute_result"
    }
   ],
   "source": [
    "# Show the dataset\n",
    "dataset.head()"
   ]
  },
  {
   "cell_type": "markdown",
   "metadata": {},
   "source": [
    "## Analysis"
   ]
  },
  {
   "cell_type": "code",
   "execution_count": 17,
   "metadata": {},
   "outputs": [
    {
     "name": "stdout",
     "output_type": "stream",
     "text": [
      "10000 rows checked\n",
      "20000 rows checked\n",
      "30000 rows checked\n",
      "40000 rows checked\n",
      "50000 rows checked\n",
      "60000 rows checked\n",
      "70000 rows checked\n",
      "80000 rows checked\n",
      "90000 rows checked\n",
      "100000 rows checked\n",
      "110000 rows checked\n",
      "120000 rows checked\n",
      "130000 rows checked\n",
      "140000 rows checked\n",
      "150000 rows checked\n",
      "160000 rows checked\n",
      "170000 rows checked\n",
      "180000 rows checked\n",
      "190000 rows checked\n",
      "200000 rows checked\n",
      "210000 rows checked\n",
      "220000 rows checked\n"
     ]
    }
   ],
   "source": [
    "# Find order brushing\n",
    "brushing = dataset.apply(lambda row: find_brushing(dataset, row), axis=1)\n",
    "brushing = [lists for list_of_lists in brushing for lists in list_of_lists]"
   ]
  },
  {
   "cell_type": "code",
   "execution_count": 18,
   "metadata": {},
   "outputs": [],
   "source": [
    "# Remove duplication and aggregate\n",
    "brushing = pd.DataFrame(brushing, columns=['shopid', 'userid', 'orderid'])\n",
    "brushing = brushing.drop_duplicates()\n",
    "brushing = brushing.groupby(['shopid', 'userid']).count().reset_index()"
   ]
  },
  {
   "cell_type": "code",
   "execution_count": 19,
   "metadata": {},
   "outputs": [],
   "source": [
    "# Get suspicious buyers\n",
    "highest = brushing[['shopid', 'orderid']].groupby(['shopid']).max()\n",
    "suspicious = pd.merge(brushing, highest, on=['shopid', 'orderid'], how='inner')"
   ]
  },
  {
   "cell_type": "code",
   "execution_count": 20,
   "metadata": {},
   "outputs": [],
   "source": [
    "# Form the final result\n",
    "suspicious = suspicious.sort_values(by=['shopid', 'orderid'])\n",
    "suspicious.userid = suspicious.userid.astype('str')\n",
    "result = suspicious.groupby('shopid')['userid'].apply('&'.join).reset_index()"
   ]
  },
  {
   "cell_type": "code",
   "execution_count": 21,
   "metadata": {},
   "outputs": [],
   "source": [
    "# Add shopid without brushing orders\n",
    "shopid_all = list(set(dataset.shopid.tolist()))\n",
    "shopid_clean = pd.DataFrame(shopid_all, columns=['shopid'])\n",
    "result = pd.merge(shopid_clean, result, on='shopid', how='left')\n",
    "result = result.fillna(0)"
   ]
  },
  {
   "cell_type": "code",
   "execution_count": 22,
   "metadata": {},
   "outputs": [],
   "source": [
    "# Export the result to csv\n",
    "result.to_csv('submission.csv', index=False)"
   ]
  }
 ],
 "metadata": {
  "kernelspec": {
   "display_name": "Python 3",
   "language": "python",
   "name": "python3"
  },
  "language_info": {
   "codemirror_mode": {
    "name": "ipython",
    "version": 3
   },
   "file_extension": ".py",
   "mimetype": "text/x-python",
   "name": "python",
   "nbconvert_exporter": "python",
   "pygments_lexer": "ipython3",
   "version": "3.6.8"
  }
 },
 "nbformat": 4,
 "nbformat_minor": 4
}
